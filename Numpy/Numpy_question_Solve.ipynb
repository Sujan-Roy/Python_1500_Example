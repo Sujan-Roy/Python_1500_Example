{
  "cells": [
    {
      "cell_type": "markdown",
      "metadata": {
        "id": "KvHDZXU3OTA6"
      },
      "source": [
        "# How to use NumPy"
      ]
    },
    {
      "cell_type": "markdown",
      "metadata": {
        "id": "yMKOTjpzOTA7"
      },
      "source": [
        "## What is Numpy?"
      ]
    },
    {
      "cell_type": "markdown",
      "metadata": {
        "id": "R6B6YDPDOTA7"
      },
      "source": [
        "* **NumPy**.\n",
        "    * The underlying library specialized for **fast** vector and matrix calculations in Python.\n",
        "* Major libraries other than Numpy\n",
        "    * Machine learning libraries\n",
        "        * scikit-learn\n",
        "        * Keras + TensorFlow\n",
        "    * Computation and visualization libraries\n",
        "        * Scipy\n",
        "        * Pandas\n",
        "        * matplotlib"
      ]
    },
    {
      "cell_type": "markdown",
      "metadata": {
        "id": "a5GCpO5KOTA7"
      },
      "source": [
        "### Numpy Fast Processing"
      ]
    },
    {
      "cell_type": "code",
      "execution_count": null,
      "metadata": {
        "colab": {
          "base_uri": "https://localhost:8080/"
        },
        "id": "sD9bQaT4OTA7",
        "outputId": "f2da1c96-7b58-409b-f4e6-caaea23a8738"
      },
      "outputs": [
        {
          "output_type": "stream",
          "name": "stdout",
          "text": [
            "Calculation results using only Python functions：12.70[sec]\n",
            "Calculation results when using NumPy：0.01[sec]\n"
          ]
        }
      ],
      "source": [
        "# import the necessary libraries\n",
        "import numpy as np\n",
        "import time\n",
        "from numpy.random import rand\n",
        "\n",
        "# Size of rows and columns\n",
        "N = 200\n",
        "\n",
        "# Initialize the matrix\n",
        "matA = np.array(rand(N, N))\n",
        "matB = np.array(rand(N, N))\n",
        "matC = np.array([[0] * N for _ in range(N)])\n",
        "\n",
        "# Calculate using Python lists\n",
        "\n",
        "# Get start time\n",
        "start = time.time()\n",
        "\n",
        "# Perform matrix multiplication using a for statement\n",
        "for i in range(N):\n",
        "    for j in range(N):\n",
        "        for k in range(N):\n",
        "            matC[i][j] = matA[i][k] * matB[k][j]\n",
        "\n",
        "print(\"Calculation results using only Python functions：%.2f[sec]\" % float(time.time() - start))\n",
        "\n",
        "# Calculate using NumPy\n",
        "\n",
        "\n",
        "# Get start time\n",
        "start = time.time()\n",
        "\n",
        "# Perform matrix multiplication using NumPy\n",
        "matC = np.dot(matA, matB)\n",
        "\n",
        "# NumPy is displayed as 0.00[sec] because it is terminated at the second decimal place\n",
        "print(\"Calculation results when using NumPy：%.2f[sec]\" % float(time.time() - start))"
      ]
    },
    {
      "cell_type": "markdown",
      "metadata": {
        "id": "US2b6G0zOTA8"
      },
      "source": [
        "## NumPy 1D array\n",
        "\n",
        "### import\n",
        "* How to import NumPy (customary naming convention)\n",
        "    * **import NumPy as np**\n",
        "    \n",
        "### 1D array\n",
        "* **ndarray**\n",
        "    * Classes for fast array handling\n",
        "    * **how to create instances\n",
        "        * **np.array(list)`**\n",
        "            * create an instance with each element of a list as an array element\n",
        "        * **`np.range(X)`**\n",
        "            * Create an instance with array elements of increasing and decreasing values at equal intervals"
      ]
    },
    {
      "cell_type": "code",
      "execution_count": 11,
      "metadata": {
        "id": "K48q0lkBOTA8",
        "outputId": "77ce3864-89c5-4aef-acc6-3f7bf9491d3f",
        "colab": {
          "base_uri": "https://localhost:8080/"
        }
      },
      "outputs": [
        {
          "output_type": "stream",
          "name": "stdout",
          "text": [
            "data1 = [1 2 3]\n",
            "data2 = [0 1 2 3]\n",
            "data3 = [1 3 5 7 9]\n",
            "data3 = [1, 3, 5, 7, 9]\n"
          ]
        }
      ],
      "source": [
        "import numpy as np\n",
        "\n",
        "## Example of generating by list using np.array() function\n",
        "## Generate so that the result is data1 = [1 2 3]\n",
        "my_list =[1, 2, 3]\n",
        "data1 =np.array(my_list)\n",
        "print(\"data1 =\", data1)\n",
        "\n",
        "## Example of generating using np.range() function\n",
        "data2 = np.arange(4)\n",
        "print(\"data2 =\", data2)\n",
        "\n",
        "## Example of generating using np.range() function - Part 2\n",
        "## Generate using np.range() so that data3 = [1 3 5 7 9]\n",
        "data3 =np.array(range(1, 10, 2))\n",
        "print(\"data3 =\", data3)\n",
        "\n",
        "data4 = list(range(1, 10, 2))\n",
        "print(\"data3 =\", data4)"
      ]
    },
    {
      "cell_type": "markdown",
      "metadata": {
        "id": "rYBSc8bNOTA9"
      },
      "source": [
        "* How to call arrays by dimension\n",
        "    * 1D: vector\n",
        "        * Example: `array_1d = np.array([1,2,3,4,5,6,7,8])`\n",
        "    * 2 dimension: matrix\n",
        "        * Example: `array_2d = np.array([[1,2,3,4],[5,6,7,8]])`\n",
        "    * 3 or more dimensions: tensor\n",
        "        * Example: `array_3d = np.array([[[1,2],[3,4]],[[5,6],[7,8]]])`\n",
        "\n",
        "### Calculation for 1D arrays\n",
        "* Element-wise computation\n",
        "    * Python lists\n",
        "        * Write a loop to take out elements one by one and calculate\n",
        "    * ndarray\n",
        "        * Arithmetic operations between ndarrays are calculated on elements in the same position\n",
        "        * No need to write a loop"
      ]
    },
    {
      "cell_type": "code",
      "execution_count": 13,
      "metadata": {
        "id": "gznm_ym4OTA9",
        "outputId": "d553e9b1-e67d-4ebd-c342-ab3705b47966",
        "colab": {
          "base_uri": "https://localhost:8080/"
        }
      },
      "outputs": [
        {
          "output_type": "stream",
          "name": "stdout",
          "text": [
            "[2, 4, 6, 8]\n",
            "[2 4 6 8]\n"
          ]
        }
      ],
      "source": [
        "# Run without NumPy\n",
        "storages = [1, 2, 3, 4]\n",
        "new_storages = []\n",
        "for n in storages:\n",
        "    n += n\n",
        "    new_storages.append(n)\n",
        "print(new_storages)\n",
        "\n",
        "# Run with NumPy\n",
        "import numpy as np\n",
        "storages = np.array([1, 2, 3, 4])\n",
        "storages= storages*2\n",
        "#Calculate to [2 4 6 8] in one line\n",
        "print(storages)"
      ]
    },
    {
      "cell_type": "markdown",
      "metadata": {
        "id": "aHdvBnu4OTA9"
      },
      "source": [
        "### Index References and Slices\n",
        "* Index references and slices are also available in NumPy\n",
        "    * Same as Python's list type\n",
        "    * To change the value of a slice, use **`arr[start:end] = the value you want to change***.\n",
        "        * Note that a list of (end - 1) is created from start"
      ]
    },
    {
      "cell_type": "code",
      "execution_count": 20,
      "metadata": {
        "id": "9cmXfQaNOTA9",
        "outputId": "cf9a3bfc-66ef-4780-a1c7-834196261f01",
        "colab": {
          "base_uri": "https://localhost:8080/"
        }
      },
      "outputs": [
        {
          "output_type": "stream",
          "name": "stdout",
          "text": [
            "[0 1 2 3 4 5 6 7 8 9]\n",
            "[1 1 1 3 4 5 6 7 8 9]\n"
          ]
        }
      ],
      "source": [
        "arr = np.arange(10)\n",
        "print(arr)\n",
        "\n",
        "# Change to [1 1 3 4 5 6 7 8 9] on one line\n",
        "arr[arr < 3] = 1\n",
        "print(arr)"
      ]
    },
    {
      "cell_type": "markdown",
      "metadata": {
        "id": "NW1wQctHOTA9"
      },
      "source": [
        "### ndarray\n",
        "notes* If you change the value of a variable to which you assign a value, the value of the original ndarray array is also changed.* Same as Python lists* If you want to copy an ndarray into two separate variables, use the copy() method."
      ]
    },
    {
      "cell_type": "code",
      "execution_count": 22,
      "metadata": {
        "id": "Vps18RGOOTA9",
        "outputId": "367f5460-07b4-4a9b-c485-9a07a41ecdb0",
        "colab": {
          "base_uri": "https://localhost:8080/"
        }
      },
      "outputs": [
        {
          "output_type": "stream",
          "name": "stdout",
          "text": [
            "[100   2   3   4   5]\n",
            "[100   2   3   4   5]\n",
            "If you use copy()\n",
            "[1 2 3 4 5]\n",
            "[100   2   3   4   5]\n"
          ]
        }
      ],
      "source": [
        "import numpy as np\n",
        "\n",
        "# Let's see how it behaves if we assign the ndarray directly to another variable\n",
        "arr1 = np.array([1, 2, 3, 4, 5])\n",
        "\n",
        "arr2 = arr1\n",
        "arr2[0] = 100\n",
        "\n",
        "# Changes to another variable are affecting the original variable\n",
        "print(arr1)\n",
        "print(arr2)\n",
        "print(\"If you use copy()\")\n",
        "# Let's see how it behaves when an ndarray is assigned to another variable using copy( )\n",
        "arr1 = np.array([1, 2, 3, 4, 5])\n",
        "\n",
        "# Use copy() to avoid influence\n",
        "arr2=arr1.copy()\n",
        "arr2[0] = 100\n",
        "\n",
        "# Changes to another variable have no effect on the original variable\n",
        "print(arr1)\n",
        "print(arr2)"
      ]
    },
    {
      "cell_type": "markdown",
      "metadata": {
        "id": "3OPgnneHOTA9"
      },
      "source": [
        "### view and copy\n",
        "* Differences between Python lists and ndarrays\n",
        "    * A slice of ndarray points to the same data as the **original array (view)**.\n",
        "** If you want to treat a slice as a copy, use **`arr[:].copy()`**."
      ]
    },
    {
      "cell_type": "code",
      "execution_count": 31,
      "metadata": {
        "id": "g9LIFcnBQEZy",
        "outputId": "b01956be-bd0a-46b7-80eb-f1dbc3592b60",
        "colab": {
          "base_uri": "https://localhost:8080/"
        }
      },
      "outputs": [
        {
          "output_type": "stream",
          "name": "stdout",
          "text": [
            "List type data.\n",
            "arr_List: [0, 1, 2, 3, 4, 5, 6, 7, 8, 9]\n",
            "\n",
            "リストのスライスではコピーが作られるので、arr_Listにはarr_List_copyの変更が反映されません\n",
            "arr_List: [0, 1, 2, 3, 4, 5, 6, 7, 8, 9]\n",
            "\n",
            "NumPy ndarray data.\n",
            "arr_NumPy: [0 1 2 3 4 5 6 7 8 9]\n",
            "\n",
            "The NumPy slice assigns the view (information about where the data is stored), so changes in arr_NumPy_view are reflected in arr_NumPy.\n",
            "arr_NumPy: [100   1   2   3   4   5   6   7   8   9]\n",
            "\n",
            "This is the behavior when copy() is used with NumPy's ndarray\n",
            "arr_NumPy: [0 1 2 3 4 5 6 7 8 9]\n",
            "\n",
            "arr_NumPy_copy does not affect arr_NumPy because a copy() is used to generate a copy\n",
            "arr_NumPy: [0 1 2 3 4 5 6 7 8 9]\n"
          ]
        }
      ],
      "source": [
        "import numpy as np\n",
        "\n",
        "# Let's see how Python behaves with slices in a Python listing\n",
        "arr_List = [x for x in range(10)]\n",
        "print(\"List type data.\")\n",
        "print(\"arr_List:\",arr_List)\n",
        "\n",
        "print()\n",
        "arr_List_copy = arr_List[:]\n",
        "arr_List_copy[0] = 100\n",
        "\n",
        "print(\"リストのスライスではコピーが作られるので、arr_Listにはarr_List_copyの変更が反映されません\")\n",
        "print(\"arr_List:\",arr_List)\n",
        "print()\n",
        "\n",
        "# Let's see how NumPy's ndarray behaves with slices\n",
        "arr_NumPy = np.arange(10)\n",
        "print(\"NumPy ndarray data.\")\n",
        "print(\"arr_NumPy:\",arr_NumPy)\n",
        "print()\n",
        "\n",
        "arr_NumPy_view = arr_NumPy[:]\n",
        "arr_NumPy_view[0] = 100\n",
        "\n",
        "print(\"The NumPy slice assigns the view (information about where the data is stored), so changes in arr_NumPy_view are reflected in arr_NumPy.\")\n",
        "print(\"arr_NumPy:\",arr_NumPy)\n",
        "print()\n",
        "\n",
        "# Let's check the behavior when copy() is used with NumPy's ndarray\n",
        "arr_NumPy = np.arange(10)\n",
        "print('This is the behavior when copy() is used with NumPy\\'s ndarray')\n",
        "print(\"arr_NumPy:\",arr_NumPy)\n",
        "print()\n",
        "# Create a new nested array using copy() so that arr_Numpy is not affected.\n",
        "arr_NumPy_copy=arr_NumPy.copy()\n",
        "arr_NumPy_copy[0] = 100\n",
        "\n",
        "print(\"arr_NumPy_copy does not affect arr_NumPy because a copy() is used to generate a copy\")\n",
        "print(\"arr_NumPy:\",arr_NumPy)"
      ]
    },
    {
      "cell_type": "markdown",
      "metadata": {
        "id": "ovXUv-MzOTA-"
      },
      "source": [
        "### Boolean index reference\n",
        "* How to retrieve elements using an array of Boolean (True/False) values in \\[ \\}"
      ]
    },
    {
      "cell_type": "code",
      "execution_count": 36,
      "metadata": {
        "id": "1CTqXsrXOTA-",
        "outputId": "4e3f1a0c-1464-4ecd-c881-2e0d25d415e5",
        "colab": {
          "base_uri": "https://localhost:8080/"
        }
      },
      "outputs": [
        {
          "output_type": "stream",
          "name": "stdout",
          "text": [
            "[2 4 6]\n"
          ]
        }
      ],
      "source": [
        "import numpy as np\n",
        "\n",
        "arr = np.array([2, 4, 6, 7])\n",
        "### True, True, True, False, so indices 0 to 2 are output\n",
        "print(arr[np.array([True, True, True, False])])"
      ]
    },
    {
      "cell_type": "markdown",
      "metadata": {
        "id": "9Bex4O10OTA-"
      },
      "source": [
        "* If the remainder when divided by 3 is 1, True -> output"
      ]
    },
    {
      "cell_type": "code",
      "execution_count": 37,
      "metadata": {
        "id": "t_7AdL1qOTA-",
        "outputId": "8334a128-03d6-4ffc-c8a1-3c2bc4230407",
        "colab": {
          "base_uri": "https://localhost:8080/"
        }
      },
      "outputs": [
        {
          "output_type": "stream",
          "name": "stdout",
          "text": [
            "Array of boolean values whether the remainder of dividing each element of arr by 3 is 1 or not\n",
            "[False  True False  True]\n",
            "Array of arr elements whose remainder when divided by 3 is 1\n",
            "[4 7]\n"
          ]
        }
      ],
      "source": [
        "import numpy as np\n",
        "\n",
        "arr = np.array([2, 4, 6, 7])\n",
        "\n",
        "print(\"Array of boolean values whether the remainder of dividing each element of arr by 3 is 1 or not\")\n",
        "print(arr % 3 == 1)\n",
        "\n",
        "print(\"Array of arr elements whose remainder when divided by 3 is 1\")\n",
        "print(arr[arr % 3 == 1])"
      ]
    },
    {
      "cell_type": "markdown",
      "metadata": {
        "id": "h2yYlINyOTA-"
      },
      "source": [
        "### Universal Functions\n",
        "* Function that returns the result of an operation on each element of an ndarray array\n",
        "    * Available for multidimensional arrays\n",
        "    * One argument\n",
        "        * np.abs()\n",
        "            * returns the absolute value of an element\n",
        "        * np.exp()\n",
        "            * returns the power of e (base of natural logarithm) of the element\n",
        "        * np.sqrt()\n",
        "            * returns the square root of the element\n",
        "    * two arguments\n",
        "        * np.add()\n",
        "            * returns the sum of elements\n",
        "        * np.subtract()\n",
        "            * returns the difference of two elements\n",
        "        * np.maximum()\n",
        "            * returns an array containing the maximum value of the elements"
      ]
    },
    {
      "cell_type": "code",
      "execution_count": 41,
      "metadata": {
        "id": "_wnstsflOTA-",
        "outputId": "b94ed2e4-32d5-4a2d-89df-6dabdd994b4b",
        "colab": {
          "base_uri": "https://localhost:8080/"
        }
      },
      "outputs": [
        {
          "output_type": "stream",
          "name": "stdout",
          "text": [
            "[ 4 -9 16 -4 20]\n",
            "[ 4  9 16  4 20]\n",
            "[5.45981500e+01 8.10308393e+03 8.88611052e+06 5.45981500e+01\n",
            " 4.85165195e+08]\n",
            "[2.         3.         4.         2.         4.47213595]\n"
          ]
        }
      ],
      "source": [
        "import numpy as np\n",
        "\n",
        "arr = np.array([4, -9, 16, -4, 20])\n",
        "print(arr)\n",
        "\n",
        "# In one line, make each element of variable arr an absolute value and assign it to variable arr_abs\n",
        "arr_abs=np.abs(arr)\n",
        "\n",
        "print(arr_abs)\n",
        "arr_pw=np.exp(arr_abs)\n",
        "print(arr_pw)\n",
        "arr_root= np.sqrt(arr_abs)\n",
        "print(arr_root)\n",
        "# Output the power and square root of e for each element of variable arr_abs in one line\n"
      ]
    },
    {
      "cell_type": "markdown",
      "metadata": {
        "id": "LAEDC75FOTA-"
      },
      "source": [
        "### Set Functions\n",
        "* Set functions work only with 1D arrays\n",
        "* Typical functions\n",
        "    * np.unique()\n",
        "        * remove duplicates and sort\n",
        "    * np.union1d(x, y)\n",
        "        * take elements that exist in at least one of the arrays x and y and sort (union set)\n",
        "    * np.intersect1d(x, y)\n",
        "        * take common elements from arrays x and y and sort (product set)\n",
        "    * np.setdiff1d(x, y)\n",
        "        * remove elements common to arrays x and y from array x and sort (difference set)"
      ]
    },
    {
      "cell_type": "code",
      "execution_count": 41,
      "metadata": {
        "id": "Eja__hD6OTA-"
      },
      "outputs": [],
      "source": []
    },
    {
      "cell_type": "markdown",
      "metadata": {
        "id": "G1LLqXnAOTA_"
      },
      "source": [
        "### Random Numbers\n",
        "* Typical random number generation functions\n",
        "    * np.random.rand()\n",
        "        * Generates uniform random numbers between 0 and 1**.\n",
        "        * Generates a random number by an integer argument.\n",
        "    * np.random.randint(x, y, z)\n",
        "        * Generate z integers that are greater than or equal to x and less than or equal to y** * Generate z integers\n",
        "        * Allows tuples to be entered for z\n",
        "            * For (2,3) → generate a 2x3 matrix\n",
        "    * np.random.normal()\n",
        "        * Generate random numbers following Gaussian distribution\n",
        "  \n",
        "  \n",
        "* Import method\n",
        "    * **from numpy.random import randint**\n",
        "        * only **randint()** will be available at function call time\n",
        "    * Generalize: \"**from module name import function name in that module**\""
      ]
    },
    {
      "cell_type": "code",
      "execution_count": 62,
      "metadata": {
        "id": "2lVSSK2wOTA_",
        "outputId": "99360c64-af97-4750-acda-63597d485fe3",
        "colab": {
          "base_uri": "https://localhost:8080/"
        }
      },
      "outputs": [
        {
          "output_type": "stream",
          "name": "stdout",
          "text": [
            "=== np.random.rand() === [0.8607674  0.37952209 0.95522534 0.89315163 0.51281717]\n",
            "=== np.random.randint() === [[9 4 4 1]\n",
            " [3 9 2 3]\n",
            " [5 4 3 9]]\n",
            "=== np.random.normal() === [-0.23447758  0.09750877 -1.36177461  1.19655258 -1.34715162]\n",
            "HelloWord\n"
          ]
        }
      ],
      "source": [
        "import numpy as np\n",
        "\n",
        "## Use np.random.rand() to print out an array of 5 elements, each of which is greater than or equal to 0 and less than 1\n",
        "rand1=np.random.rand(5)\n",
        "print(\"=== np.random.rand() ===\",rand1)\n",
        "\n",
        "## Use np.random.randint() to output a 3x4 matrix of integers between 1 and 10\n",
        "randint1= np.random.randint(1,11,size=(3,4))\n",
        "print(\"=== np.random.randint() ===\",randint1)\n",
        "\n",
        "\n",
        "## Print an array of 5 elements using np.random.normal()\n",
        "randnormal=np.random.normal(size=5)\n",
        "print(\"=== np.random.normal() ===\",randnormal)\n",
        "print(\"HelloWord\")"
      ]
    },
    {
      "cell_type": "markdown",
      "metadata": {
        "id": "NlO5bbTkOTBA"
      },
      "source": [
        "## NumPy 2-dimensional array\n",
        "### 2-dimensional array\n",
        "* How to create a 2-dimensional array (= matrix)\n",
        "    * **np.array(\\[ list, list \\])**\n",
        "* **ndayyay array.shape**\n",
        "    * **return the number of elements per dimension\n",
        "* **ndarray array.reshape(a, b)**\n",
        "    * Convert to a matrix of the same shape as the given arguments"
      ]
    },
    {
      "cell_type": "code",
      "execution_count": 64,
      "metadata": {
        "id": "T5iW0OmfOTBA",
        "outputId": "0d8491da-4b4f-49b2-b772-eaf1714618e0",
        "colab": {
          "base_uri": "https://localhost:8080/"
        }
      },
      "outputs": [
        {
          "output_type": "stream",
          "name": "stdout",
          "text": [
            "[[1 2 3]\n",
            " [4 5 6]]\n",
            "[[1 2]\n",
            " [3 4]\n",
            " [5 6]]\n"
          ]
        }
      ],
      "source": [
        "import numpy as np\n",
        "\n",
        "## Prepare two lists\n",
        "arr1 = [1, 2 ,3]\n",
        "arr2 = [4, 5, 6]\n",
        "\n",
        "## generate ndarray array using two lists\n",
        "np_arr= np.array([arr1,arr2])\n",
        "\n",
        "print(np_arr)\n",
        "\n",
        "## Output a matrix with the number of rows and columns changed to 3⋆2 using reshape\n",
        "np_ndarray=np_arr.reshape(3,2)\n",
        "print(np_ndarray)"
      ]
    },
    {
      "cell_type": "markdown",
      "metadata": {
        "id": "_xvcnyEfOTBA"
      },
      "source": [
        "### 7.3.2 Index References and Slices\n",
        "* One index is specified → any row is retrieved as an array\n",
        "* Specify two indexes → get individual elements\n",
        "    * Expression (both refer to the same element)\n",
        "        * **arr\\[1\\]\\[2\\]**\n",
        "        * **arr\\[1, 2\\]**\n",
        "* Slices can also be used"
      ]
    },
    {
      "cell_type": "code",
      "execution_count": 65,
      "metadata": {
        "id": "AA19LqQlOTBA",
        "outputId": "734b40ec-6f4b-4102-a603-8727c9aa4b87",
        "colab": {
          "base_uri": "https://localhost:8080/"
        }
      },
      "outputs": [
        {
          "output_type": "stream",
          "name": "stdout",
          "text": [
            "[4 5 6]\n",
            "6\n",
            "[5 6]\n"
          ]
        }
      ],
      "source": [
        "import numpy as np\n",
        "\n",
        "arr = np.array([[1, 2 ,3], [4, 5, 6]])\n",
        "# Output [1 2 3]\n",
        "print(arr[1])\n",
        "# Output [2]\n",
        "print(arr[1,2])\n",
        "## Output the first row, column 1 and beyond.\n",
        "print(arr[1,1:])"
      ]
    },
    {
      "cell_type": "markdown",
      "metadata": {
        "id": "pw6Pb8SuOTBA"
      },
      "source": [
        "### axis\n",
        "* axis\n",
        "    * Like a coordinate axis\n",
        "    * In the case of a 2-dimensional array\n",
        "        * axis = 0\n",
        "            * process every column\n",
        "        * axis = 1\n",
        "            * Perform processing for each row\n",
        "\n",
        "* For sum() method\n",
        "    * no argument specified\n",
        "        * simple sum\n",
        "    * axis = 0 for the argument  \n",
        "        * Addition is performed vertically (in the column direction) and output as a 1-dimensional array\n",
        "    * axis=1 for the argument\n",
        "        * The values are added horizontally (in the row direction) and output as a 1D array."
      ]
    },
    {
      "cell_type": "code",
      "execution_count": 69,
      "metadata": {
        "id": "Q8b4_cAgOTBA",
        "outputId": "3bd71c7f-76e9-48f9-92df-4cb805777a66",
        "colab": {
          "base_uri": "https://localhost:8080/"
        }
      },
      "outputs": [
        {
          "output_type": "stream",
          "name": "stdout",
          "text": [
            "21\n",
            "[5 7 9]\n",
            "[ 6 15]\n"
          ]
        }
      ],
      "source": [
        "arr = np.array([[1, 2 ,3], [4, 5, 6]])\n",
        "\n",
        "## Output simple sums\n",
        "result= np.sum(arr)\n",
        "print(result)\n",
        "## Output the result vertically\n",
        "resultVer= np.sum(arr,axis=0)\n",
        "print(resultVer)\n",
        "## Output the result horizontally\n",
        "resultHori= np.sum(arr,axis=1)\n",
        "print(resultHori)"
      ]
    },
    {
      "cell_type": "markdown",
      "metadata": {
        "id": "-bp8dY_mOTBA"
      },
      "source": [
        "### Fancy Index Reference\n",
        "* Fancy index references\n",
        "    * A function that returns a sub-array (copy) when an array (ndarray, list, etc.) is put into an index\n",
        "        * Note that the expression method is different from that of index references\n",
        "        * Index number is specified starting from the 0th\n",
        "    * Unlike slices, always returns a copy of the original data and creates new elements"
      ]
    },
    {
      "cell_type": "code",
      "execution_count": 73,
      "metadata": {
        "id": "VesNRVKROTBA",
        "outputId": "375f43e9-003a-48aa-d8dc-20deabfccf27",
        "colab": {
          "base_uri": "https://localhost:8080/"
        }
      },
      "outputs": [
        {
          "output_type": "stream",
          "name": "stdout",
          "text": [
            "[[7 8]\n",
            " [5 6]\n",
            " [1 2]]\n"
          ]
        }
      ],
      "source": [
        "arr = np.array([[1, 2], [3, 4], [5, 6], [7, 8]])\n",
        "\n",
        "# Extract the elements of the rows in the order of line 3, line 2, and line 0, and output the new elements created\n",
        "# Index numbers start from 0\n",
        "row = np.array([3, 2, 0])\n",
        "selected_rows = arr[row, :]\n",
        "\n",
        "print(selected_rows)"
      ]
    },
    {
      "cell_type": "markdown",
      "metadata": {
        "id": "Fk37uySEOTBA"
      },
      "source": [
        "### Transposed matrix\n",
        "* transpose\n",
        "    * Transposing rows and columns\n",
        "    * How to transpose an ndarray\n",
        "        * Using np.transpose(ndarray array)\n",
        "        * Using ndarray array.T"
      ]
    },
    {
      "cell_type": "code",
      "execution_count": 80,
      "metadata": {
        "id": "wuwYIvSTOTBA",
        "outputId": "6f08d39c-3143-4c8e-9ab6-c87adef5b43c",
        "colab": {
          "base_uri": "https://localhost:8080/"
        }
      },
      "outputs": [
        {
          "output_type": "stream",
          "name": "stdout",
          "text": [
            "===arr===\n",
            "[[ 0  1  2  3]\n",
            " [ 4  5  6  7]\n",
            " [ 8  9 10 11]]\n",
            "===arrT===\n",
            "[[ 0  4  8]\n",
            " [ 1  5  9]\n",
            " [ 2  6 10]\n",
            " [ 3  7 11]]\n",
            "===transpose(arr)===\n",
            "[[ 0  4  8]\n",
            " [ 1  5  9]\n",
            " [ 2  6 10]\n",
            " [ 3  7 11]]\n"
          ]
        }
      ],
      "source": [
        "import numpy as np\n",
        "\n",
        "arr = np.arange(12).reshape(3, 4)\n",
        "print(\"===arr===\")\n",
        "print(arr)\n",
        "\n",
        "## Print the transposed variable arr\n",
        "arrT= arr.T\n",
        "print(\"===arrT===\")\n",
        "print(arrT)\n",
        "\n",
        "## Print the output using np.transpose\n",
        "print(\"===transpose(arr)===\")\n",
        "print(np.transpose(arr))"
      ]
    },
    {
      "cell_type": "markdown",
      "metadata": {
        "id": "X5FNr2pxOTBB"
      },
      "source": [
        "### Sorting\n",
        "* ndarray can be sorted by sort() as well as list type\n",
        "    * In the case of a 2-dimensional array\n",
        "        * **`ndarray array.sort(0)`**\n",
        "            * elements are sorted by column\n",
        "        * **`ndarray array.sort(1)`**\n",
        "            * elements are sorted by rows\n",
        "        * The above would radically change the original sequence.\n",
        "    * **`numpy.sort(ndarray array.sort(1)`** also sorts elements by row\n",
        "        * differs from ndarray array.sort() in that it returns a copy of the sorted array (the original array remains unchanged).\n",
        "    * If ``axis'' is not specified, 2-dimensional arrays are sorted by rows.\n",
        "* **`argsort()`** method\n",
        "    * returns the index of the array after sorting"
      ]
    },
    {
      "cell_type": "code",
      "execution_count": 85,
      "metadata": {
        "id": "WMGhTbHpOTBB",
        "outputId": "65327c28-41bb-474b-e75e-96eb5fa47135",
        "colab": {
          "base_uri": "https://localhost:8080/"
        }
      },
      "outputs": [
        {
          "output_type": "stream",
          "name": "stdout",
          "text": [
            "====arr====\n",
            "[[15 30  5 10]\n",
            " [ 9 12  3  6]\n",
            " [ 4  2  8  6]]\n",
            "\n",
            "====np.sort()====\n",
            "[[ 5 10 15 30]\n",
            " [ 3  6  9 12]\n",
            " [ 2  4  6  8]]\n",
            "====arr====\n",
            "[[15 30  5 10]\n",
            " [ 9 12  3  6]\n",
            " [ 4  2  8  6]]\n",
            "\n",
            "====arr.sort()====\n",
            "[[ 4  2  3  6]\n",
            " [ 9 12  5  6]\n",
            " [15 30  8 10]]\n",
            "====arr.sort()====\n",
            "[[ 2  3  4  6]\n",
            " [ 5  6  9 12]\n",
            " [ 8 10 15 30]]\n"
          ]
        }
      ],
      "source": [
        "import numpy as np\n",
        "\n",
        "arr = np.array([[15, 30, 5, 10],[9, 12, 3, 6],[4, 2, 8, 6]])\n",
        "\n",
        "print(\"====arr====\")\n",
        "print(arr)\n",
        "print()\n",
        "\n",
        "## Print the result of sorting by numpy.sort()\n",
        "print(\"====np.sort()====\")\n",
        "print(np.sort(arr))\n",
        "## The original matrix is not affected\n",
        "print(\"====arr====\")\n",
        "print(arr)\n",
        "print()\n",
        "\n",
        "## print the result of sorting by columns\n",
        "sortC=np.sort(arr,axis=0)\n",
        "print(\"====arr.sort()====\")\n",
        "print(sortC)\n",
        "\n",
        "## Print the result of sorting by rows\n",
        "sortR=np.sort(sortC,axis=1)\n",
        "print(\"====arr.sort()====\")\n",
        "print(sortR)"
      ]
    },
    {
      "cell_type": "markdown",
      "metadata": {
        "id": "6qslw_42OTBB"
      },
      "source": [
        "#### argsort example\n",
        "* Array before sorting: **\\[15, 30, 5\\]**\n",
        "* array after sorting: **\\[5, 15, 30\\]**\n",
        "    * Zero th (5) of the array after sorting: * Second of the original array\n",
        "    * 1st (15) of array after sort: 0th of original array\n",
        "    * Second of the array after sorting (30): first of the original array"
      ]
    },
    {
      "cell_type": "code",
      "execution_count": 87,
      "metadata": {
        "id": "ePHX-mrAOTBB",
        "outputId": "b7545f8c-c0db-49af-a1fe-b335b98b4b47",
        "colab": {
          "base_uri": "https://localhost:8080/"
        }
      },
      "outputs": [
        {
          "output_type": "execute_result",
          "data": {
            "text/plain": [
              "array([2, 0, 1])"
            ]
          },
          "metadata": {},
          "execution_count": 87
        }
      ],
      "source": [
        "import numpy as np\n",
        "\n",
        "arr = np.array([15, 30, 5])\n",
        "arr.argsort()"
      ]
    },
    {
      "cell_type": "markdown",
      "metadata": {
        "id": "YUJj9dFQOTBB"
      },
      "source": [
        "### Matrix calculations* Functions for matrix calculations.\n",
        "* **`np.dot(a, b)`**\n",
        "* return the matrix product of two matrices\n",
        "* Matrix product: a matrix whose elements are inner products of row and column vectors in the matrix\n",
        "* Matrix product example\n",
        "\n",
        "            \n",
        "            \n",
        "$$\n",
        "        \\begin{bmatrix}\n",
        "        1 & 2 \\\\\n",
        "        3 & 4 \\\\\n",
        "        \\end{bmatrix}\n",
        "    \\times\n",
        "    \\begin{bmatrix}\n",
        "    1 & 2 \\\\\n",
        "    3 & 4 \\\\\n",
        "    \\end{bmatrix}\n",
        "    =\n",
        "    \\begin{bmatrix}\n",
        "    1 \\times 1 + 2 \\times 3 & 1 \\times 2 + 2 \\times 4 \\\\\n",
        "    1 \\times 3 + 4 \\times 3 & 3 \\times 2 + 4 \\times 4 \\\\\n",
        "    \\end{bmatrix}\n",
        "    =\n",
        "        \\begin{bmatrix}\n",
        "        7 & 10\\\\\n",
        "        15 & 22 \\\\\n",
        "        \\end{bmatrix}\n",
        "$$\n",
        "            "
      ]
    },
    {
      "cell_type": "code",
      "execution_count": 92,
      "metadata": {
        "id": "vIWTbafWOTBB",
        "outputId": "6fcbd1a5-f357-447b-ce63-5f31bc8bd40f",
        "colab": {
          "base_uri": "https://localhost:8080/"
        }
      },
      "outputs": [
        {
          "output_type": "stream",
          "name": "stdout",
          "text": [
            "=== np.dot() ===\n",
            "[[ 7 10]\n",
            " [15 22]]\n",
            "=== np.linalg.norm(arr3) ===\n",
            "2.23606797749979\n"
          ]
        }
      ],
      "source": [
        "import numpy as np\n",
        "\n",
        "arr1 = np.array([[1, 2], [3, 4]])\n",
        "arr2 = np.array([[1, 2], [3, 4]])\n",
        "\n",
        "## Print the result of the matrix product calculation\n",
        "arr_multiplication= np.dot(arr1,arr2)\n",
        "print(\"=== np.dot() ===\")\n",
        "print(arr_multiplication)\n",
        "\n",
        "\n",
        "arr3 = np.array([1, 2])\n",
        "\n",
        "## Calculate the norm\n",
        "print(\"=== np.linalg.norm(arr3) ===\")\n",
        "print(np.linalg.norm(arr3))"
      ]
    },
    {
      "cell_type": "markdown",
      "metadata": {
        "id": "kuWlqkavOTBC"
      },
      "source": [
        "### statistical functions\n",
        "* statistical functions\n",
        "    * Functions or methods that perform mathematical operations on an entire ndarray array or around a specific axis\n",
        "    * Method examples\n",
        "        * **`mean(), np.average()`**\n",
        "            * return the average of the array elements\n",
        "            * mean() allows specifying the data type at the time of calculation\n",
        "            * np.average() can be used to obtain a weighted average by giving a weight parameter as an argument\n",
        "        * **`np.max(), np.min()`**\n",
        "            * **`np.max(), np.min() return maximum and minimum values\n",
        "        * **`np.argmax(), np.argmin()`**\n",
        "            * return maximum and minimum index numbers * **`np.argmax(), np.argmin()\n",
        "        * **`np.std(), np.var()`**\n",
        "            * return standard deviation and variance\n",
        "    * ** can be processed for each axis specified by ``axis'' * **`axis = 0\n",
        "        * **`axis = 0`**\n",
        "            * process by columns\n",
        "        **`axis = 1`**\n",
        "            * process by row **`axis = 1`** * process by row"
      ]
    },
    {
      "cell_type": "code",
      "execution_count": 97,
      "metadata": {
        "id": "6S6qyCThOTBC",
        "outputId": "c2bb4671-0b9c-40c9-8918-4bcbcb9e0f19",
        "colab": {
          "base_uri": "https://localhost:8080/"
        }
      },
      "outputs": [
        {
          "output_type": "stream",
          "name": "stdout",
          "text": [
            "=== arr ===\n",
            "[[1 2 3]\n",
            " [4 5 6]]\n",
            "=== arr.mean() ===\n",
            "3.5\n",
            "=== arr.mean() ===\n",
            "[2.5 3.5 4.5]\n",
            "=== arr.mean() ===\n",
            "[2. 5.]\n"
          ]
        }
      ],
      "source": [
        "import numpy as np\n",
        "\n",
        "arr = np.array([[1, 2 ,3], [4, 5, 6]])\n",
        "\n",
        "print(\"=== arr ===\")\n",
        "print(arr)\n",
        "\n",
        "### print the result of finding the overall mean\n",
        "arr_mean=np.mean(arr)\n",
        "print(\"=== arr.mean() ===\")\n",
        "print(arr_mean)\n",
        "\n",
        "### Output the results of the column-wise averages.\n",
        "arr_average=np.average(arr,axis=0)\n",
        "print(\"=== arr.mean() ===\")\n",
        "print(arr_average)\n",
        "\n",
        "### Output the result of the row-by-row average.\n",
        "arr_averageR=np.average(arr,axis=1)\n",
        "print(\"=== arr.mean() ===\")\n",
        "print(arr_averageR)\n"
      ]
    },
    {
      "cell_type": "markdown",
      "metadata": {
        "id": "uVXHd96-OTBC"
      },
      "source": [
        "## Vector\n",
        "### magnitude of vector\n",
        "* np.linalg.norm() method\n",
        "* Function to calculate the norm.\n",
        "* If you pass an array as an argument, it will calculate it like other NumPy functions."
      ]
    },
    {
      "cell_type": "code",
      "execution_count": 101,
      "metadata": {
        "id": "4YDaWWrhOTBC",
        "outputId": "ecb6be2f-61d9-49b6-94bd-068c406a0237",
        "colab": {
          "base_uri": "https://localhost:8080/"
        }
      },
      "outputs": [
        {
          "output_type": "stream",
          "name": "stdout",
          "text": [
            "3.1622776601683795\n"
          ]
        }
      ],
      "source": [
        "import numpy as np\n",
        "array = np.array([1, 3])\n",
        "# Output the vector magnitude of the array\n",
        "arr_Vector=np.linalg.norm(array)\n",
        "print(arr_Vector)"
      ]
    },
    {
      "cell_type": "markdown",
      "metadata": {
        "id": "tsC_3Eq4OTBC"
      },
      "source": [
        "## Matrices.\n",
        "Addition and subtraction are\n",
        "\n",
        "(variable name + variable name)\n",
        "\n",
        "(variable name - variable name)"
      ]
    },
    {
      "cell_type": "code",
      "execution_count": 102,
      "metadata": {
        "id": "bhv3VLaFOTBC",
        "outputId": "f70dca5f-ce99-4133-ca26-5c7d4cd04218",
        "colab": {
          "base_uri": "https://localhost:8080/"
        }
      },
      "outputs": [
        {
          "output_type": "stream",
          "name": "stdout",
          "text": [
            "[[1 2 3]\n",
            " [4 5 6]]\n"
          ]
        }
      ],
      "source": [
        "import numpy as np\n",
        "A=np.array([[1, 2, 3], [4, 5, 6]])\n",
        "print(A)"
      ]
    },
    {
      "cell_type": "code",
      "execution_count": 105,
      "metadata": {
        "id": "eHsu1qSyOTBC",
        "outputId": "f546da5b-7ea0-4c41-ad5f-67ef738f9724",
        "colab": {
          "base_uri": "https://localhost:8080/"
        }
      },
      "outputs": [
        {
          "output_type": "stream",
          "name": "stdout",
          "text": [
            "[[ 8 10 12]\n",
            " [14 16 18]]\n",
            "[[-6 -6 -6]\n",
            " [-6 -6 -6]]\n"
          ]
        }
      ],
      "source": [
        "import numpy as np\n",
        "A = np.array([[1, 2, 3], [4, 5, 6]])\n",
        "B = np.array([[7, 8, 9], [10, 11, 12]])\n",
        "# Output the matrix added together\n",
        "matrixAdd=A+B\n",
        "print(matrixAdd)\n",
        "# Output the matrix subtracted\n",
        "matrixSub=A-B\n",
        "print(matrixSub)"
      ]
    },
    {
      "cell_type": "markdown",
      "metadata": {
        "id": "_FLFKTVIOTBC"
      },
      "source": [
        "### Scalar Multiplication\n",
        "If you write a number in a vector, it will be output multiplied by a scalar"
      ]
    },
    {
      "cell_type": "code",
      "execution_count": 108,
      "metadata": {
        "id": "ufZDZlkROTBC",
        "colab": {
          "base_uri": "https://localhost:8080/"
        },
        "outputId": "2305f001-4829-43d8-9ee3-8376f2610568"
      },
      "outputs": [
        {
          "output_type": "stream",
          "name": "stdout",
          "text": [
            "Result of scalar times A:\n",
            "[[ 3  6  9]\n",
            " [12 15 18]]\n"
          ]
        }
      ],
      "source": [
        "import numpy as np\n",
        "A = np.array([[1, 2, 3], [4, 5, 6]])\n",
        "# Output scalar times A\n",
        "scalar_value = 3\n",
        "\n",
        "# Scalar multiplication: multiply the array by the scalar value\n",
        "result = scalar_value * A\n",
        "\n",
        "print(\"Result of scalar times A:\")\n",
        "print(result)\n",
        "\n"
      ]
    },
    {
      "cell_type": "markdown",
      "metadata": {
        "id": "8MB0HW-MOTBC"
      },
      "source": [
        "### Product of Matrices\n",
        "The np.dot() method can be used to find the product of matrices"
      ]
    },
    {
      "cell_type": "code",
      "execution_count": 110,
      "metadata": {
        "id": "v6sz5g4pOTBD",
        "outputId": "8f37fdbd-295b-4a0f-a677-9617ddcc249b",
        "colab": {
          "base_uri": "https://localhost:8080/"
        }
      },
      "outputs": [
        {
          "output_type": "stream",
          "name": "stdout",
          "text": [
            "32\n"
          ]
        }
      ],
      "source": [
        "import numpy as np\n",
        "A = np.array([1, 2, 3])\n",
        "B = np.array([4, 5, 6])\n",
        "# Output the inner product of matrix A and matrix B\n",
        "inner_product=np.dot(A,B)\n",
        "print(inner_product)\n"
      ]
    },
    {
      "cell_type": "markdown",
      "metadata": {
        "id": "DPKFB34IOTBD"
      },
      "source": [
        "The product or quotient of two matrices is\n",
        "\n",
        "(variable name*variable name)\n",
        "\n",
        "(variable name/variable name)\n",
        "\n",
        "The product and quotient of the matrices are obtained by"
      ]
    },
    {
      "cell_type": "code",
      "execution_count": 111,
      "metadata": {
        "id": "EgEk6bHJOTBD",
        "outputId": "adfc9eee-5841-4abf-cc4f-e596a463f59d",
        "colab": {
          "base_uri": "https://localhost:8080/"
        }
      },
      "outputs": [
        {
          "output_type": "stream",
          "name": "stdout",
          "text": [
            "[ 4 10 18]\n"
          ]
        }
      ],
      "source": [
        "import numpy as np\n",
        "A = np.array([1, 2, 3])\n",
        "B = np.array([4, 5, 6])\n",
        "# Output the product of matrix A and matrix B\n",
        "matrix=A*B\n",
        "print(matrix)"
      ]
    },
    {
      "cell_type": "code",
      "execution_count": 112,
      "metadata": {
        "id": "Kd-Tj4UUOTBD",
        "colab": {
          "base_uri": "https://localhost:8080/"
        },
        "outputId": "1f97f47a-7930-4238-8610-e9a5079ce3df"
      },
      "outputs": [
        {
          "output_type": "stream",
          "name": "stdout",
          "text": [
            "[0.25 0.4  0.5 ]\n"
          ]
        }
      ],
      "source": [
        "import numpy as np\n",
        "A = np.array([1, 2, 3])\n",
        "B = np.array([4, 5, 6])\n",
        "# Output the quotient of matrix A and matrix B\n",
        "matrix_quotient= A/B\n",
        "print(matrix_quotient)"
      ]
    },
    {
      "cell_type": "markdown",
      "metadata": {
        "id": "a835agaBOTBD"
      },
      "source": [
        "Matrices of different shapes can also be obtained with np.dot()\n",
        "\n",
        "*There is a condition that must be satisfied in order to find the product of matrices of different shapes. In this  case, matrix A has a shape of 2x3 (2 rows, 3 columns), and matrix B has a shape of 3x2 (3 rows, 2 columns). Since the number of columns in A (3) matches the number of rows in B (3), you can perform matrix multiplication between A and B."
      ]
    },
    {
      "cell_type": "code",
      "execution_count": 113,
      "metadata": {
        "id": "A8aohp4NOTBD",
        "colab": {
          "base_uri": "https://localhost:8080/"
        },
        "outputId": "ec1d9a22-6ece-4c78-f154-812e3c5e1e85"
      },
      "outputs": [
        {
          "output_type": "stream",
          "name": "stdout",
          "text": [
            "[[ 32 -32]\n",
            " [-32  32]]\n"
          ]
        }
      ],
      "source": [
        "import numpy as np\n",
        "A = np.array([[1, 2, 3], [-1, -2, -3]])\n",
        "B = np.array([[4, -4], [5, -5], [6, -6]])\n",
        "# Output the inner product of matrix A and matrix B\n",
        "inner_product = np.dot(A, B)\n",
        "print(inner_product)\n"
      ]
    }
  ],
  "metadata": {
    "kernelspec": {
      "display_name": "base",
      "language": "python",
      "name": "python3"
    },
    "language_info": {
      "codemirror_mode": {
        "name": "ipython",
        "version": 3
      },
      "file_extension": ".py",
      "mimetype": "text/x-python",
      "name": "python",
      "nbconvert_exporter": "python",
      "pygments_lexer": "ipython3",
      "version": "3.9.12"
    },
    "orig_nbformat": 4,
    "colab": {
      "provenance": []
    }
  },
  "nbformat": 4,
  "nbformat_minor": 0
}