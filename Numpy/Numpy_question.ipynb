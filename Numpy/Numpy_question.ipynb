{
 "cells": [
  {
   "attachments": {},
   "cell_type": "markdown",
   "metadata": {},
   "source": [
    "# How to use NumPy"
   ]
  },
  {
   "attachments": {},
   "cell_type": "markdown",
   "metadata": {},
   "source": [
    "## What is Numpy?"
   ]
  },
  {
   "attachments": {},
   "cell_type": "markdown",
   "metadata": {},
   "source": [
    "* **NumPy**.\n",
    "    * The underlying library specialized for **fast** vector and matrix calculations in Python.\n",
    "* Major libraries other than Numpy\n",
    "    * Machine learning libraries\n",
    "        * scikit-learn\n",
    "        * Keras + TensorFlow\n",
    "    * Computation and visualization libraries\n",
    "        * Scipy\n",
    "        * Pandas\n",
    "        * matplotlib"
   ]
  },
  {
   "attachments": {},
   "cell_type": "markdown",
   "metadata": {},
   "source": [
    "### Numpy Fast Processing"
   ]
  },
  {
   "cell_type": "code",
   "execution_count": 1,
   "metadata": {},
   "outputs": [
    {
     "name": "stdout",
     "output_type": "stream",
     "text": [
      "Calculation results using only Python functions：8.82[sec]\n",
      "Calculation results when using NumPy：0.06[sec]\n"
     ]
    }
   ],
   "source": [
    "# import the necessary libraries\n",
    "import numpy as np\n",
    "import time\n",
    "from numpy.random import rand\n",
    "\n",
    "# Size of rows and columns\n",
    "N = 200\n",
    "\n",
    "# Initialize the matrix\n",
    "matA = np.array(rand(N, N))\n",
    "matB = np.array(rand(N, N))\n",
    "matC = np.array([[0] * N for _ in range(N)])\n",
    "\n",
    "# Calculate using Python lists\n",
    "\n",
    "# Get start time\n",
    "start = time.time()\n",
    "\n",
    "# Perform matrix multiplication using a for statement\n",
    "for i in range(N):\n",
    "    for j in range(N):\n",
    "        for k in range(N):\n",
    "            matC[i][j] = matA[i][k] * matB[k][j]\n",
    "\n",
    "print(\"Calculation results using only Python functions：%.2f[sec]\" % float(time.time() - start))\n",
    "\n",
    "# Calculate using NumPy\n",
    "\n",
    "# Get start time\n",
    "start = time.time()\n",
    "\n",
    "# Perform matrix multiplication using NumPy\n",
    "matC = np.dot(matA, matB)\n",
    "\n",
    "# NumPy is displayed as 0.00[sec] because it is terminated at the second decimal place\n",
    "print(\"Calculation results when using NumPy：%.2f[sec]\" % float(time.time() - start))"
   ]
  },
  {
   "attachments": {},
   "cell_type": "markdown",
   "metadata": {},
   "source": [
    "## NumPy 1D array\n",
    "\n",
    "### import\n",
    "* How to import NumPy (customary naming convention)\n",
    "    * **import NumPy as np**\n",
    "    \n",
    "### 1D array\n",
    "* **ndarray**\n",
    "    * Classes for fast array handling\n",
    "    * **how to create instances\n",
    "        * **np.array(list)`**\n",
    "            * create an instance with each element of a list as an array element\n",
    "        * **`np.range(X)`**\n",
    "            * Create an instance with array elements of increasing and decreasing values at equal intervals"
   ]
  },
  {
   "cell_type": "code",
   "execution_count": 3,
   "metadata": {},
   "outputs": [
    {
     "ename": "SyntaxError",
     "evalue": "invalid syntax (872615617.py, line 5)",
     "output_type": "error",
     "traceback": [
      "\u001b[1;36m  Input \u001b[1;32mIn [3]\u001b[1;36m\u001b[0m\n\u001b[1;33m    data1 =\u001b[0m\n\u001b[1;37m           ^\u001b[0m\n\u001b[1;31mSyntaxError\u001b[0m\u001b[1;31m:\u001b[0m invalid syntax\n"
     ]
    }
   ],
   "source": [
    "import numpy as np\n",
    "\n",
    "## Example of generating by list using np.array() function\n",
    "## Generate so that the result is data1 = [1 2 3]\n",
    "data1 =\n",
    "print(\"data1 =\", data1)\n",
    "\n",
    "## Example of generating using np.range() function\n",
    "data2 = np.arange(4)\n",
    "print(\"data2 =\", data2)\n",
    "\n",
    "## Example of generating using np.range() function - Part 2\n",
    "## Generate using np.range() so that data3 = [1 3 5 7 9]\n",
    "data3 =\n",
    "print(\"data3 =\", data3)"
   ]
  },
  {
   "attachments": {},
   "cell_type": "markdown",
   "metadata": {},
   "source": [
    "* How to call arrays by dimension\n",
    "    * 1D: vector\n",
    "        * Example: `array_1d = np.array([1,2,3,4,5,6,7,8])`\n",
    "    * 2 dimension: matrix\n",
    "        * Example: `array_2d = np.array([[1,2,3,4],[5,6,7,8]])`\n",
    "    * 3 or more dimensions: tensor\n",
    "        * Example: `array_3d = np.array([[[1,2],[3,4]],[[5,6],[7,8]]])`\n",
    "\n",
    "### Calculation for 1D arrays\n",
    "* Element-wise computation\n",
    "    * Python lists\n",
    "        * Write a loop to take out elements one by one and calculate\n",
    "    * ndarray\n",
    "        * Arithmetic operations between ndarrays are calculated on elements in the same position\n",
    "        * No need to write a loop"
   ]
  },
  {
   "cell_type": "code",
   "execution_count": null,
   "metadata": {},
   "outputs": [
    {
     "name": "stdout",
     "output_type": "stream",
     "text": [
      "[2, 4, 6, 8]\n",
      "[2 4 6 8]\n"
     ]
    }
   ],
   "source": [
    "# Run without NumPy\n",
    "storages = [1, 2, 3, 4]\n",
    "new_storages = []\n",
    "for n in storages:\n",
    "    n += n\n",
    "    new_storages.append(n)\n",
    "print(new_storages)\n",
    "\n",
    "# Run with NumPy\n",
    "import numpy as np\n",
    "storages = np.array([1, 2, 3, 4])\n",
    "#Calculate to [2 4 6 8] in one line\n",
    "print(storages)"
   ]
  },
  {
   "attachments": {},
   "cell_type": "markdown",
   "metadata": {},
   "source": [
    "### Index References and Slices\n",
    "* Index references and slices are also available in NumPy\n",
    "    * Same as Python's list type\n",
    "    * To change the value of a slice, use **`arr[start:end] = the value you want to change***.\n",
    "        * Note that a list of (end - 1) is created from start"
   ]
  },
  {
   "cell_type": "code",
   "execution_count": null,
   "metadata": {},
   "outputs": [
    {
     "name": "stdout",
     "output_type": "stream",
     "text": [
      "[0 1 2 3 4 5 6 7 8 9]\n",
      "[1 1 1 3 4 5 6 7 8 9]\n"
     ]
    }
   ],
   "source": [
    "arr = np.arange(10)\n",
    "print(arr)\n",
    "\n",
    "# Change to [1 1 3 4 5 6 7 8 9] on one line\n",
    "print(arr)"
   ]
  },
  {
   "attachments": {},
   "cell_type": "markdown",
   "metadata": {},
   "source": [
    "### ndarray\n",
    "notes* If you change the value of a variable to which you assign a value, the value of the original ndarray array is also changed.* Same as Python lists* If you want to copy an ndarray into two separate variables, use the copy() method."
   ]
  },
  {
   "cell_type": "code",
   "execution_count": 1,
   "metadata": {},
   "outputs": [
    {
     "name": "stdout",
     "output_type": "stream",
     "text": [
      "[1 2 3 4 5]\n",
      "[100   2   3   4   5]\n"
     ]
    }
   ],
   "source": [
    "import numpy as np\n",
    "\n",
    "# Let's see how it behaves if we assign the ndarray directly to another variable\n",
    "arr1 = np.array([1, 2, 3, 4, 5])\n",
    "\n",
    "arr2 = arr1\n",
    "arr2[0] = 100\n",
    "\n",
    "# Changes to another variable are affecting the original variable\n",
    "print(arr1)\n",
    "print(arr2)\n",
    "print(\"If you use copy()\")\n",
    "# Let's see how it behaves when an ndarray is assigned to another variable using copy( )\n",
    "arr1 = np.array([1, 2, 3, 4, 5])\n",
    "\n",
    "# Use copy() to avoid influence\n",
    "arr2[0] = 100\n",
    "\n",
    "# Changes to another variable have no effect on the original variable\n",
    "print(arr1)\n",
    "print(arr2)"
   ]
  },
  {
   "attachments": {},
   "cell_type": "markdown",
   "metadata": {},
   "source": [
    "### view and copy\n",
    "* Differences between Python lists and ndarrays\n",
    "    * A slice of ndarray points to the same data as the **original array (view)**.\n",
    "** If you want to treat a slice as a copy, use **`arr[:].copy()`**."
   ]
  },
  {
   "cell_type": "code",
   "execution_count": 14,
   "metadata": {},
   "outputs": [
    {
     "name": "stdout",
     "output_type": "stream",
     "text": [
      "リスト型データです\n",
      "arr_List: [0, 1, 2, 3, 4, 5, 6, 7, 8, 9]\n",
      "\n",
      "リストのスライスではコピーが作られるので、arr_Listにはarr_List_copyの変更が反映されません\n",
      "arr_List: [0, 1, 2, 3, 4, 5, 6, 7, 8, 9]\n",
      "\n",
      "NumPyのndarrayデータです\n",
      "arr_NumPy: [0 1 2 3 4 5 6 7 8 9]\n",
      "\n",
      "NumPyのスライスではview(データが格納されている場所の情報)が代入されるので、arr_NumPy_viewの変更がarr_NumPyに反映されます\n",
      "arr_NumPy: [100   1   2   3   4   5   6   7   8   9]\n",
      "\n",
      "NumPyのndarrayでcopy()を用いた場合での挙動です\n",
      "arr_NumPy: [0 1 2 3 4 5 6 7 8 9]\n",
      "\n",
      "copy()を用いた場合は、コピーが生成されているのでarr_NumPy_copyはarr_NumPyに影響を与えません\n",
      "arr_NumPy: [0 1 2 3 4 5 6 7 8 9]\n"
     ]
    }
   ],
   "source": [
    "import numpy as np\n",
    "\n",
    "# Let's see how Python behaves with slices in a Python listing\n",
    "arr_List = [x for x in range(10)]\n",
    "print(\"List type data.\")\n",
    "print(\"arr_List:\",arr_List)\n",
    "\n",
    "print()\n",
    "arr_List_copy = arr_List[:]\n",
    "arr_List_copy[0] = 100\n",
    "\n",
    "print(\"リストのスライスではコピーが作られるので、arr_Listにはarr_List_copyの変更が反映されません\")\n",
    "print(\"arr_List:\",arr_List)\n",
    "print()\n",
    "\n",
    "# Let's see how NumPy's ndarray behaves with slices\n",
    "arr_NumPy = np.arange(10)\n",
    "print(\"NumPy ndarray data.\")\n",
    "print(\"arr_NumPy:\",arr_NumPy)\n",
    "print()\n",
    "\n",
    "arr_NumPy_view = arr_NumPy[:]\n",
    "arr_NumPy_view[0] = 100\n",
    "\n",
    "print(\"The NumPy slice assigns the view (information about where the data is stored), so changes in arr_NumPy_view are reflected in arr_NumPy.\")\n",
    "print(\"arr_NumPy:\",arr_NumPy)\n",
    "print()\n",
    "\n",
    "# Let's check the behavior when copy() is used with NumPy's ndarray\n",
    "arr_NumPy = np.range(10)\n",
    "print('This is the behavior when copy() is used with NumPy's ndarray')\n",
    "print(\"arr_NumPy:\",arr_NumPy)\n",
    "print()\n",
    "# Create a new nested array using copy() so that arr_Numpy is not affected.\n",
    "\n",
    "arr_NumPy_copy[0] = 100\n",
    "\n",
    "print(\"arr_NumPy_copy does not affect arr_NumPy because a copy() is used to generate a copy\")\n",
    "print(\"arr_NumPy:\",arr_NumPy)"
   ]
  },
  {
   "attachments": {},
   "cell_type": "markdown",
   "metadata": {},
   "source": [
    "### Boolean index reference\n",
    "* How to retrieve elements using an array of Boolean (True/False) values in \\[ \\}"
   ]
  },
  {
   "cell_type": "code",
   "execution_count": null,
   "metadata": {},
   "outputs": [
    {
     "name": "stdout",
     "output_type": "stream",
     "text": [
      "[2 4 6]\n"
     ]
    }
   ],
   "source": [
    "import numpy as np\n",
    "\n",
    "arr = np.array([2, 4, 6, 7]) \n",
    "### True, True, True, False, so indices 0 to 2 are output\n",
    "print(arr[np.array([True, True, True, False])])  "
   ]
  },
  {
   "attachments": {},
   "cell_type": "markdown",
   "metadata": {},
   "source": [
    "* If the remainder when divided by 3 is 1, True -> output"
   ]
  },
  {
   "cell_type": "code",
   "execution_count": null,
   "metadata": {},
   "outputs": [
    {
     "name": "stdout",
     "output_type": "stream",
     "text": [
      "arrの各要素を3で割ったときの余りが1かどうかの真偽値の配列\n",
      "[False  True False  True]\n",
      "3で割ったときの余りが1となるarrの要素の配列\n",
      "[4 7]\n"
     ]
    }
   ],
   "source": [
    "import numpy as np\n",
    "\n",
    "arr = np.array([2, 4, 6, 7]) \n",
    "\n",
    "print(\"Array of boolean values whether the remainder of dividing each element of arr by 3 is 1 or not\")\n",
    "print(arr % 3 == 1)\n",
    "\n",
    "print(\"Array of arr elements whose remainder when divided by 3 is 1\")\n",
    "print(arr[arr % 3 == 1])"
   ]
  },
  {
   "attachments": {},
   "cell_type": "markdown",
   "metadata": {},
   "source": [
    "### Universal Functions\n",
    "* Function that returns the result of an operation on each element of an ndarray array\n",
    "    * Available for multidimensional arrays\n",
    "    * One argument\n",
    "        * np.abs()\n",
    "            * returns the absolute value of an element\n",
    "        * np.exp()\n",
    "            * returns the power of e (base of natural logarithm) of the element\n",
    "        * np.sqrt()\n",
    "            * returns the square root of the element\n",
    "    * two arguments\n",
    "        * np.add()\n",
    "            * returns the sum of elements\n",
    "        * np.subtract()\n",
    "            * returns the difference of two elements\n",
    "        * np.maximum()\n",
    "            * returns an array containing the maximum value of the elements"
   ]
  },
  {
   "cell_type": "code",
   "execution_count": null,
   "metadata": {},
   "outputs": [
    {
     "name": "stdout",
     "output_type": "stream",
     "text": [
      "[ 4 -9 16 -4 20]\n",
      "[ 4  9 16  4 20]\n",
      "[5.45981500e+01 8.10308393e+03 8.88611052e+06 5.45981500e+01\n",
      " 4.85165195e+08]\n",
      "[2.         3.         4.         2.         4.47213595]\n"
     ]
    }
   ],
   "source": [
    "import numpy as np\n",
    "\n",
    "arr = np.array([4, -9, 16, -4, 20])\n",
    "print(arr)\n",
    "\n",
    "# In one line, make each element of variable arr an absolute value and assign it to variable arr_abs\n",
    "\n",
    "print(arr_abs)\n",
    "\n",
    "# Output the power and square root of e for each element of variable arr_abs in one line\n"
   ]
  },
  {
   "attachments": {},
   "cell_type": "markdown",
   "metadata": {},
   "source": [
    "### Set Functions\n",
    "* Set functions work only with 1D arrays\n",
    "* Typical functions\n",
    "    * np.unique()\n",
    "        * remove duplicates and sort\n",
    "    * np.union1d(x, y)\n",
    "        * take elements that exist in at least one of the arrays x and y and sort (union set)\n",
    "    * np.intersect1d(x, y)\n",
    "        * take common elements from arrays x and y and sort (product set)\n",
    "    * np.setdiff1d(x, y)\n",
    "        * remove elements common to arrays x and y from array x and sort (difference set)"
   ]
  },
  {
   "cell_type": "code",
   "execution_count": null,
   "metadata": {},
   "outputs": [],
   "source": []
  },
  {
   "attachments": {},
   "cell_type": "markdown",
   "metadata": {},
   "source": [
    "### Random Numbers\n",
    "* Typical random number generation functions\n",
    "    * np.random.rand()\n",
    "        * Generates uniform random numbers between 0 and 1**.\n",
    "        * Generates a random number by an integer argument.\n",
    "    * np.random.randint(x, y, z)\n",
    "        * Generate z integers that are greater than or equal to x and less than or equal to y** * Generate z integers\n",
    "        * Allows tuples to be entered for z\n",
    "            * For (2,3) → generate a 2x3 matrix\n",
    "    * np.random.normal()\n",
    "        * Generate random numbers following Gaussian distribution\n",
    "  \n",
    "  \n",
    "* Import method\n",
    "    * **from numpy.random import randint**\n",
    "        * only **randint()** will be available at function call time\n",
    "    * Generalize: \"**from module name import function name in that module**\""
   ]
  },
  {
   "cell_type": "code",
   "execution_count": 5,
   "metadata": {},
   "outputs": [
    {
     "name": "stdout",
     "output_type": "stream",
     "text": [
      "=== np.random.rand() ===\n",
      "[0.52982126 0.9048857  0.71280572 0.45405227 0.92187386]\n",
      "=== np.random.randint() ===\n",
      "[[2 1 4 3]\n",
      " [9 9 9 2]\n",
      " [9 3 9 5]]\n",
      "=== np.random.normal() ===\n",
      "[ 0.57659509  1.64729356 -0.35863837 -0.39121826  0.32242266]\n",
      "HelloWord\n"
     ]
    }
   ],
   "source": [
    "import numpy as np\n",
    "\n",
    "## Use np.random.rand() to print out an array of 5 elements, each of which is greater than or equal to 0 and less than 1\n",
    "print(\"=== np.random.rand() ===\")\n",
    "\n",
    "## Use np.random.randint() to output a 3x4 matrix of integers between 1 and 10\n",
    "print(\"=== np.random.randint() ===\")\n",
    "\n",
    "\n",
    "## Print an array of 5 elements using np.random.normal()\n",
    "print(\"=== np.random.normal() ===\")"
   ]
  },
  {
   "attachments": {},
   "cell_type": "markdown",
   "metadata": {},
   "source": [
    "## NumPy 2-dimensional array\n",
    "### 2-dimensional array\n",
    "* How to create a 2-dimensional array (= matrix)\n",
    "    * **np.array(\\[ list, list \\])**\n",
    "* **ndayyay array.shape**\n",
    "    * **return the number of elements per dimension\n",
    "* **ndarray array.reshape(a, b)**\n",
    "    * Convert to a matrix of the same shape as the given arguments"
   ]
  },
  {
   "cell_type": "code",
   "execution_count": 1,
   "metadata": {},
   "outputs": [
    {
     "name": "stdout",
     "output_type": "stream",
     "text": [
      "[[1 2 3]\n",
      " [4 5 6]]\n",
      "[[1 2]\n",
      " [3 4]\n",
      " [5 6]]\n"
     ]
    }
   ],
   "source": [
    "import numpy as np\n",
    "\n",
    "## Prepare two lists\n",
    "arr1 = [1, 2 ,3]\n",
    "arr2 = [4, 5, 6]\n",
    "\n",
    "## generate ndarray array using two lists\n",
    "\n",
    "print(np_arr)\n",
    "\n",
    "## Output a matrix with the number of rows and columns changed to 3⋆2 using reshape"
   ]
  },
  {
   "attachments": {},
   "cell_type": "markdown",
   "metadata": {},
   "source": [
    "### 7.3.2 Index References and Slices\n",
    "* One index is specified → any row is retrieved as an array\n",
    "* Specify two indexes → get individual elements\n",
    "    * Expression (both refer to the same element)\n",
    "        * **arr\\[1\\]\\[2\\]**\n",
    "        * **arr\\[1, 2\\]**\n",
    "* Slices can also be used"
   ]
  },
  {
   "cell_type": "code",
   "execution_count": 15,
   "metadata": {},
   "outputs": [
    {
     "name": "stdout",
     "output_type": "stream",
     "text": [
      "[4 5 6]\n",
      "6\n",
      "[5 6]\n"
     ]
    }
   ],
   "source": [
    "import numpy as np\n",
    "\n",
    "arr = np.array([[1, 2 ,3], [4, 5, 6]])\n",
    "# Output [1 2 3]\n",
    "print(arr[1])\n",
    "# Output [2]\n",
    "print(arr[1,2])\n",
    "## Output the first row, column 1 and beyond.\n",
    "print(arr[1,1:])  "
   ]
  },
  {
   "attachments": {},
   "cell_type": "markdown",
   "metadata": {},
   "source": [
    "### axis\n",
    "* axis\n",
    "    * Like a coordinate axis\n",
    "    * In the case of a 2-dimensional array\n",
    "        * axis = 0\n",
    "            * process every column\n",
    "        * axis = 1\n",
    "            * Perform processing for each row\n",
    "\n",
    "* For sum() method\n",
    "    * no argument specified\n",
    "        * simple sum\n",
    "    * axis = 0 for the argument  \n",
    "        * Addition is performed vertically (in the column direction) and output as a 1-dimensional array\n",
    "    * axis=1 for the argument\n",
    "        * The values are added horizontally (in the row direction) and output as a 1D array."
   ]
  },
  {
   "cell_type": "code",
   "execution_count": null,
   "metadata": {},
   "outputs": [
    {
     "name": "stdout",
     "output_type": "stream",
     "text": [
      "21\n",
      "[5 7 9]\n",
      "[ 6 15]\n"
     ]
    }
   ],
   "source": [
    "arr = np.array([[1, 2 ,3], [4, 5, 6]])\n",
    "\n",
    "## Output simple sums\n",
    "\n",
    "## Output the result vertically\n",
    "\n",
    "## Output the result horizontally"
   ]
  },
  {
   "attachments": {},
   "cell_type": "markdown",
   "metadata": {},
   "source": [
    "### Fancy Index Reference\n",
    "* Fancy index references\n",
    "    * A function that returns a sub-array (copy) when an array (ndarray, list, etc.) is put into an index\n",
    "        * Note that the expression method is different from that of index references\n",
    "        * Index number is specified starting from the 0th\n",
    "    * Unlike slices, always returns a copy of the original data and creates new elements"
   ]
  },
  {
   "cell_type": "code",
   "execution_count": null,
   "metadata": {},
   "outputs": [
    {
     "name": "stdout",
     "output_type": "stream",
     "text": [
      "[[7 8]\n",
      " [5 6]\n",
      " [1 2]]\n"
     ]
    }
   ],
   "source": [
    "arr = np.array([[1, 2], [3, 4], [5, 6], [7, 8]]) \n",
    "\n",
    "# Extract the elements of the rows in the order of line 3, line 2, and line 0, and output the new elements created\n",
    "# Index numbers start from 0\n"
   ]
  },
  {
   "attachments": {},
   "cell_type": "markdown",
   "metadata": {},
   "source": [
    "### Transposed matrix\n",
    "* transpose\n",
    "    * Transposing rows and columns\n",
    "    * How to transpose an ndarray\n",
    "        * Using np.transpose(ndarray array)\n",
    "        * Using ndarray array.T"
   ]
  },
  {
   "cell_type": "code",
   "execution_count": null,
   "metadata": {},
   "outputs": [
    {
     "name": "stdout",
     "output_type": "stream",
     "text": [
      "=== arr ===\n",
      "[[ 0  1  2  3]\n",
      " [ 4  5  6  7]\n",
      " [ 8  9 10 11]]\n",
      "=== arr.T ===\n",
      "[[ 0  4  8]\n",
      " [ 1  5  9]\n",
      " [ 2  6 10]\n",
      " [ 3  7 11]]\n",
      "=== np.transpose(arr)) ===\n",
      "[[ 0  4  8]\n",
      " [ 1  5  9]\n",
      " [ 2  6 10]\n",
      " [ 3  7 11]]\n"
     ]
    }
   ],
   "source": [
    "import numpy as np\n",
    "\n",
    "arr = np.arange(12).reshape(3, 4)\n",
    "print(\"===arr===\")\n",
    "print(arr)\n",
    "\n",
    "## Print the transposed variable arr\n",
    "print(\"======\")\n",
    "\n",
    "## Print the output using np.transpose\n",
    "print(\"======\")\n",
    "print(np.transpose(arr))"
   ]
  },
  {
   "attachments": {},
   "cell_type": "markdown",
   "metadata": {},
   "source": [
    "### Sorting\n",
    "* ndarray can be sorted by sort() as well as list type\n",
    "    * In the case of a 2-dimensional array\n",
    "        * **`ndarray array.sort(0)`**\n",
    "            * elements are sorted by column\n",
    "        * **`ndarray array.sort(1)`**\n",
    "            * elements are sorted by rows\n",
    "        * The above would radically change the original sequence.\n",
    "    * **`numpy.sort(ndarray array.sort(1)`** also sorts elements by row\n",
    "        * differs from ndarray array.sort() in that it returns a copy of the sorted array (the original array remains unchanged).\n",
    "    * If ``axis'' is not specified, 2-dimensional arrays are sorted by rows.\n",
    "* **`argsort()`** method\n",
    "    * returns the index of the array after sorting"
   ]
  },
  {
   "cell_type": "code",
   "execution_count": null,
   "metadata": {},
   "outputs": [
    {
     "name": "stdout",
     "output_type": "stream",
     "text": [
      "====arr====\n",
      "[[15 30  5 10]\n",
      " [ 9 12  3  6]\n",
      " [ 4  2  8  6]]\n",
      "\n",
      "====np.sort(arr)====\n",
      "[[ 5 10 15 30]\n",
      " [ 3  6  9 12]\n",
      " [ 2  4  6  8]]\n",
      "====arr====\n",
      "[[15 30  5 10]\n",
      " [ 9 12  3  6]\n",
      " [ 4  2  8  6]]\n",
      "\n",
      "====arr.sort(0)====\n",
      "[[ 4  2  3  6]\n",
      " [ 9 12  5  6]\n",
      " [15 30  8 10]]\n",
      "====arr.sort(1)====\n",
      "[[ 2  3  4  6]\n",
      " [ 5  6  9 12]\n",
      " [ 8 10 15 30]]\n"
     ]
    }
   ],
   "source": [
    "import numpy as np\n",
    "\n",
    "arr = np.array([[15, 30, 5, 10],[9, 12, 3, 6],[4, 2, 8, 6]])\n",
    "\n",
    "print(\"====arr====\")\n",
    "print(arr)\n",
    "print()\n",
    "\n",
    "## Print the result of sorting by numpy.sort()\n",
    "print(\"====np.sort()====\")\n",
    "print(np.sort(arr))\n",
    "## The original matrix is not affected\n",
    "print(\"====arr====\")\n",
    "print(arr)\n",
    "print()\n",
    "\n",
    "## print the result of sorting by columns\n",
    "\n",
    "print(\"====arr.sort()====\")\n",
    "print(arr)\n",
    "\n",
    "## Print the result of sorting by rows\n",
    "\n",
    "print(\"====arr.sort()====\")\n",
    "print(arr)"
   ]
  },
  {
   "attachments": {},
   "cell_type": "markdown",
   "metadata": {},
   "source": [
    "#### argsort example\n",
    "* Array before sorting: **\\[15, 30, 5\\]**\n",
    "* array after sorting: **\\[5, 15, 30\\]**\n",
    "    * Zero th (5) of the array after sorting: * Second of the original array\n",
    "    * 1st (15) of array after sort: 0th of original array\n",
    "    * Second of the array after sorting (30): first of the original array"
   ]
  },
  {
   "cell_type": "code",
   "execution_count": 16,
   "metadata": {},
   "outputs": [
    {
     "data": {
      "text/plain": [
       "array([2, 0, 1], dtype=int64)"
      ]
     },
     "execution_count": 16,
     "metadata": {},
     "output_type": "execute_result"
    }
   ],
   "source": [
    "import numpy as np\n",
    "\n",
    "arr = np.array([15, 30, 5])\n",
    "arr.argsort()"
   ]
  },
  {
   "attachments": {},
   "cell_type": "markdown",
   "metadata": {},
   "source": [
    "### Matrix calculations* Functions for matrix calculations.\n",
    "* **`np.dot(a, b)`**\n",
    "* return the matrix product of two matrices\n",
    "* Matrix product: a matrix whose elements are inner products of row and column vectors in the matrix\n",
    "* Matrix product example\n",
    "\n",
    "            \n",
    "            \n",
    "$$\n",
    "        \\begin{bmatrix}\n",
    "        1 & 2 \\\\\n",
    "        3 & 4 \\\\\n",
    "        \\end{bmatrix}\n",
    "    \\times\n",
    "    \\begin{bmatrix}\n",
    "    1 & 2 \\\\\n",
    "    3 & 4 \\\\\n",
    "    \\end{bmatrix}\n",
    "    = \n",
    "    \\begin{bmatrix}\n",
    "    1 \\times 1 + 2 \\times 3 & 1 \\times 2 + 2 \\times 4 \\\\\n",
    "    1 \\times 3 + 4 \\times 3 & 3 \\times 2 + 4 \\times 4 \\\\\n",
    "    \\end{bmatrix}\n",
    "    = \n",
    "        \\begin{bmatrix}\n",
    "        7 & 10\\\\\n",
    "        15 & 22 \\\\\n",
    "        \\end{bmatrix}\n",
    "$$\n",
    "            "
   ]
  },
  {
   "cell_type": "code",
   "execution_count": null,
   "metadata": {},
   "outputs": [
    {
     "name": "stdout",
     "output_type": "stream",
     "text": [
      "=== np.dot(arr1, arr2) ===\n",
      "[[ 7 10]\n",
      " [15 22]]\n",
      "=== np.linalg.norm(arr3) ===\n",
      "2.23606797749979\n"
     ]
    }
   ],
   "source": [
    "import numpy as np\n",
    "\n",
    "arr1 = np.array([[1, 2], [3, 4]])\n",
    "arr2 = np.array([[1, 2], [3, 4]])\n",
    "\n",
    "## Print the result of the matrix product calculation\n",
    "print(\"=== np.dot() ===\")\n",
    "\n",
    "\n",
    "arr3 = np.array([1, 2])\n",
    "\n",
    "## Calculate the norm\n",
    "print(\"=== np.linalg.norm(arr3) ===\")\n",
    "print(np.linalg.norm(arr3))"
   ]
  },
  {
   "attachments": {},
   "cell_type": "markdown",
   "metadata": {},
   "source": [
    "### statistical functions\n",
    "* statistical functions\n",
    "    * Functions or methods that perform mathematical operations on an entire ndarray array or around a specific axis\n",
    "    * Method examples\n",
    "        * **`mean(), np.average()`**\n",
    "            * return the average of the array elements\n",
    "            * mean() allows specifying the data type at the time of calculation\n",
    "            * np.average() can be used to obtain a weighted average by giving a weight parameter as an argument\n",
    "        * **`np.max(), np.min()`**\n",
    "            * **`np.max(), np.min() return maximum and minimum values\n",
    "        * **`np.argmax(), np.argmin()`**\n",
    "            * return maximum and minimum index numbers * **`np.argmax(), np.argmin()\n",
    "        * **`np.std(), np.var()`**\n",
    "            * return standard deviation and variance\n",
    "    * ** can be processed for each axis specified by ``axis'' * **`axis = 0\n",
    "        * **`axis = 0`**\n",
    "            * process by columns\n",
    "        **`axis = 1`**\n",
    "            * process by row **`axis = 1`** * process by row"
   ]
  },
  {
   "cell_type": "code",
   "execution_count": null,
   "metadata": {},
   "outputs": [
    {
     "name": "stdout",
     "output_type": "stream",
     "text": [
      "=== arr ===\n",
      "[[1 2 3]\n",
      " [4 5 6]]\n",
      "=== arr.mean() ===\n",
      "3.5\n",
      "=== arr.mean(axis=0) ===\n",
      "[2.5 3.5 4.5]\n",
      "=== arr.mean(axis=1) ===\n",
      "[2. 5.]\n"
     ]
    }
   ],
   "source": [
    "import numpy as np\n",
    "\n",
    "arr = np.array([[1, 2 ,3], [4, 5, 6]])\n",
    "\n",
    "print(\"=== arr ===\")\n",
    "print(arr)\n",
    "\n",
    "### print the result of finding the overall mean\n",
    "print(\"=== arr.mean() ===\")\n",
    "\n",
    "### Output the results of the column-wise averages.\n",
    "print(\"=== arr.mean() ===\")\n",
    "\n",
    "### Output the result of the row-by-row average.\n",
    "print(\"=== arr.mean() ===\")\n"
   ]
  },
  {
   "attachments": {},
   "cell_type": "markdown",
   "metadata": {},
   "source": [
    "## Vector\n",
    "### magnitude of vector\n",
    "* np.linalg.norm() method\n",
    "* Function to calculate the norm.\n",
    "* If you pass an array as an argument, it will calculate it like other NumPy functions."
   ]
  },
  {
   "cell_type": "code",
   "execution_count": null,
   "metadata": {},
   "outputs": [
    {
     "name": "stdout",
     "output_type": "stream",
     "text": [
      "3.1622776601683795\n"
     ]
    }
   ],
   "source": [
    "import numpy as np\n",
    "array = np.array([1, 3])\n",
    "# Output the vector magnitude of the array"
   ]
  },
  {
   "attachments": {},
   "cell_type": "markdown",
   "metadata": {},
   "source": [
    "## Matrices.\n",
    "Addition and subtraction are\n",
    "\n",
    "(variable name + variable name)\n",
    "\n",
    "(variable name - variable name)"
   ]
  },
  {
   "cell_type": "code",
   "execution_count": 8,
   "metadata": {},
   "outputs": [
    {
     "name": "stdout",
     "output_type": "stream",
     "text": [
      "[[1 2 3]\n",
      " [4 5 6]]\n"
     ]
    }
   ],
   "source": [
    "import numpy as np\n",
    "A=np.array([[1, 2, 3], [4, 5, 6]])\n",
    "print(A)"
   ]
  },
  {
   "cell_type": "code",
   "execution_count": 9,
   "metadata": {},
   "outputs": [
    {
     "name": "stdout",
     "output_type": "stream",
     "text": [
      "[[ 8 10 12]\n",
      " [14 16 18]]\n",
      "[[-6 -6 -6]\n",
      " [-6 -6 -6]]\n"
     ]
    }
   ],
   "source": [
    "import numpy as np\n",
    "A = np.array([[1, 2, 3], [4, 5, 6]])\n",
    "B = np.array([[7, 8, 9], [10, 11, 12]])\n",
    "# Output the matrix added together\n",
    "\n",
    "# Output the matrix subtracted\n"
   ]
  },
  {
   "attachments": {},
   "cell_type": "markdown",
   "metadata": {},
   "source": [
    "### Scalar Multiplication\n",
    "If you write a number in a vector, it will be output multiplied by a scalar"
   ]
  },
  {
   "cell_type": "code",
   "execution_count": null,
   "metadata": {},
   "outputs": [],
   "source": [
    "import numpy as np\n",
    "A = np.array([[1, 2, 3], [4, 5, 6]])\n",
    "# Output scalar times A\n"
   ]
  },
  {
   "attachments": {},
   "cell_type": "markdown",
   "metadata": {},
   "source": [
    "### Product of Matrices\n",
    "The np.dot() method can be used to find the product of matrices"
   ]
  },
  {
   "cell_type": "code",
   "execution_count": 2,
   "metadata": {},
   "outputs": [
    {
     "ename": "SyntaxError",
     "evalue": "invalid syntax (1346167272.py, line 2)",
     "output_type": "error",
     "traceback": [
      "\u001b[1;36m  Input \u001b[1;32mIn [2]\u001b[1;36m\u001b[0m\n\u001b[1;33m    The np.dot() method can be used to find the product of matrices\u001b[0m\n\u001b[1;37m        ^\u001b[0m\n\u001b[1;31mSyntaxError\u001b[0m\u001b[1;31m:\u001b[0m invalid syntax\n"
     ]
    }
   ],
   "source": [
    "import numpy as np\n",
    "A = np.array([1, 2, 3])\n",
    "B = np.array([4, 5, 6])\n",
    "# Output the inner product of matrix A and matrix B\n"
   ]
  },
  {
   "cell_type": "markdown",
   "metadata": {},
   "source": [
    "The product or quotient of two matrices is\n",
    "\n",
    "(variable name*variable name)\n",
    "\n",
    "(variable name/variable name)\n",
    "\n",
    "The product and quotient of the matrices are obtained by"
   ]
  },
  {
   "cell_type": "code",
   "execution_count": 10,
   "metadata": {},
   "outputs": [
    {
     "name": "stdout",
     "output_type": "stream",
     "text": [
      "[ 4 10 18]\n"
     ]
    }
   ],
   "source": [
    "import numpy as np\n",
    "A = np.array([1, 2, 3])\n",
    "B = np.array([4, 5, 6])\n",
    "# Output the product of matrix A and matrix B\n"
   ]
  },
  {
   "cell_type": "code",
   "execution_count": null,
   "metadata": {},
   "outputs": [],
   "source": [
    "import numpy as np\n",
    "A = np.array([1, 2, 3])\n",
    "B = np.array([4, 5, 6])\n",
    "# Output the quotient of matrix A and matrix B\n"
   ]
  },
  {
   "cell_type": "markdown",
   "metadata": {},
   "source": [
    "Matrices of different shapes can also be obtained with np.dot()\n",
    "\n",
    "*There is a condition that must be satisfied in order to find the product of matrices of different shapes."
   ]
  },
  {
   "cell_type": "code",
   "execution_count": null,
   "metadata": {},
   "outputs": [],
   "source": [
    "import numpy as np\n",
    "A = np.array([[1, 2, 3], [-1, -2, -3]])\n",
    "B = np.array([[4, -4], [5, -5], [6, -6]])\n",
    "# Output the inner product of matrix A and matrix B\n"
   ]
  }
 ],
 "metadata": {
  "kernelspec": {
   "display_name": "base",
   "language": "python",
   "name": "python3"
  },
  "language_info": {
   "codemirror_mode": {
    "name": "ipython",
    "version": 3
   },
   "file_extension": ".py",
   "mimetype": "text/x-python",
   "name": "python",
   "nbconvert_exporter": "python",
   "pygments_lexer": "ipython3",
   "version": "3.9.12"
  },
  "orig_nbformat": 4
 },
 "nbformat": 4,
 "nbformat_minor": 2
}
